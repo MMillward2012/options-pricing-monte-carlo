{
 "cells": [
  {
   "cell_type": "markdown",
   "id": "069d7ebf",
   "metadata": {},
   "source": [
    "# 🧮 European Call Option Pricing using Monte Carlo Simulation\n",
    "\n",
    "This notebook uses a Monte Carlo approach to estimate the fair price of a European call option under the Black-Scholes framework.\n",
    "\n",
    "We simulate thousands of potential future stock price paths, compute the payoff of the option at maturity, and discount those payoffs to present value.\n",
    "\n",
    "---\n",
    "\n",
    "**Model assumptions:**\n",
    "- Constant volatility (Black-Scholes)\n",
    "- Risk-neutral pricing\n",
    "- European-style option (exercise only at maturity)\n"
   ]
  },
  {
   "cell_type": "markdown",
   "id": "0f70be91",
   "metadata": {},
   "source": [
    "## Imports"
   ]
  },
  {
   "cell_type": "code",
   "execution_count": 1,
   "id": "7212de90",
   "metadata": {},
   "outputs": [],
   "source": [
    "import numpy as np\n",
    "import matplotlib.pyplot as plt\n",
    "from scipy.stats import norm"
   ]
  },
  {
   "cell_type": "markdown",
   "id": "0ef033cb",
   "metadata": {},
   "source": [
    "## Parameters"
   ]
  },
  {
   "cell_type": "code",
   "execution_count": 2,
   "id": "b670b7e6",
   "metadata": {},
   "outputs": [],
   "source": [
    "# Option parameters\n",
    "S0 = 100       # Initial stock price\n",
    "K = 105        # Strike price\n",
    "T = 1.0        # Time to maturity (in years)\n",
    "r = 0.05       # Risk-free interest rate (annual)\n",
    "sigma = 0.2    # Volatility of the underlying asset\n",
    "\n",
    "# Simulation parameters\n",
    "n_simulations = 10000  # Number of Monte Carlo paths"
   ]
  }
 ],
 "metadata": {
  "kernelspec": {
   "display_name": ".options_env",
   "language": "python",
   "name": "python3"
  },
  "language_info": {
   "codemirror_mode": {
    "name": "ipython",
    "version": 3
   },
   "file_extension": ".py",
   "mimetype": "text/x-python",
   "name": "python",
   "nbconvert_exporter": "python",
   "pygments_lexer": "ipython3",
   "version": "3.11.13"
  }
 },
 "nbformat": 4,
 "nbformat_minor": 5
}
